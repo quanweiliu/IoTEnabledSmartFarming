{
 "cells": [
  {
   "cell_type": "markdown",
   "metadata": {},
   "source": [
    "# 模型构建与模型优化\n",
    "- CNN2d 网络构建\n",
    "- dropout 缓解过拟和问题（模型优化1）\n",
    "- batch normalization 数据批标准化(模型优化2)\n",
    "- model.train and model.eval 训练和预测模式\n",
    "- 缓解过拟合问题的方法之三\n",
    "    - 增大训练集\n",
    "    - dropout：起到平局的作用，减少神经元之间复杂的共适应能力。 该层只有在训练的时候起作用，在预测的时候不起作用。\n",
    "    - batch normalization：正则化效果，提高模型的泛化能力，加快收敛速度，允许更深的模型，允许更大的学习速率"
   ]
  },
  {
   "cell_type": "code",
   "execution_count": 1,
   "metadata": {},
   "outputs": [
    {
     "name": "stderr",
     "output_type": "stream",
     "text": [
      "/root/miniconda3/envs/py12/lib/python3.12/site-packages/tqdm/auto.py:21: TqdmWarning: IProgress not found. Please update jupyter and ipywidgets. See https://ipywidgets.readthedocs.io/en/stable/user_install.html\n",
      "  from .autonotebook import tqdm as notebook_tqdm\n"
     ]
    }
   ],
   "source": [
    "import os\n",
    "# copy image\n",
    "import shutil\n",
    "\n",
    "import torch\n",
    "import torch.nn as nn\n",
    "import torch.nn.functional as F\n",
    "import torch.optim as optim\n",
    "import torchvision\n",
    "from torchvision import transforms\n",
    "\n",
    "import time\n",
    "import numpy as np\n",
    "from datetime import datetime\n",
    "import matplotlib.pyplot as plt\n",
    "from timm.loss import LabelSmoothingCrossEntropy\n",
    "from thop import profile, clever_format\n",
    "%matplotlib inline\n",
    "\n",
    "from model import basic_cnn, resNet50, InceptionV3\n",
    "from model import mobileNetV2, mobileNetV3, mobileNetV1\n",
    "from metrics.metrics_v1 import metric_log"
   ]
  },
  {
   "cell_type": "markdown",
   "metadata": {},
   "source": [
    "- torchvision.datasets.ImageFolder\n",
    "- 从分类文件夹中创建dataset\n",
    "- 所以要创建文件夹，并把各种图片放进去"
   ]
  },
  {
   "cell_type": "code",
   "execution_count": 2,
   "metadata": {},
   "outputs": [],
   "source": [
    "# specises = ['cloudy', 'rain', 'shine', 'sunrise']\n",
    "specises = ['aphids', 'armyworm', 'beetle', 'bollworm', \"grasshopper\", \"mites\", \"mosquito\", \"sawfly\", \"stem_borer\"]\n",
    "\n",
    "epoches = 100\n",
    "BATCHSZ = 16\n",
    "\n",
    "# model_name = \"basicCnnNet1\"\n",
    "# model_name = \"basicCnnNet2\"\n",
    "# model_name = 'mobileNetV2'\n",
    "# model_name = 'mobileNetV3'\n",
    "model_name = 'mobilenetv3_large'\n",
    "# model_name = 'mobilenetv3_small'\n",
    "# model_name = 'mobileNetV1'\n",
    "# model_name = 'resNet50'\n",
    "# model_name = 'InceptionV3'\n",
    "path_head = '/home/leo/Classification/04CNN'\n",
    "\n",
    "device = torch.device(\"cuda\" if torch.cuda.is_available() else \"cpu\")"
   ]
  },
  {
   "cell_type": "code",
   "execution_count": 3,
   "metadata": {},
   "outputs": [
    {
     "name": "stdout",
     "output_type": "stream",
     "text": [
      "/home/leo/Classification/04CNN/results/0823-105305-mobilenetv3_large\n"
     ]
    }
   ],
   "source": [
    "result_dir = os.path.join(path_head, 'results', \\\n",
    "    datetime.now().strftime(\"%m%d-%H%M%S-\" + model_name))\n",
    "\n",
    "# create a new file\n",
    "if not os.path.exists(result_dir):\n",
    "    os.mkdir(result_dir)\n",
    "print(result_dir)"
   ]
  },
  {
   "cell_type": "code",
   "execution_count": 4,
   "metadata": {},
   "outputs": [],
   "source": [
    "# # 这个路径用于储存从原始数据中划分的各个类别的文件夹，每一个类别用一个文件夹存放\n",
    "# base_dir = '/home/leo/SMD/4weather'\n",
    "# train_dir = os.path.join(base_dir, 'train')\n",
    "# test_dir = os.path.join(base_dir, 'test')\n",
    "\n",
    "# # 判断不是一个文件夹\n",
    "# if not os.path.isdir(base_dir):\n",
    "#     os.mkdir(base_dir)\n",
    "#     os.mkdir(train_dir)\n",
    "#     os.mkdir(test_dir)\n",
    "#     # 继续创建各个类别的文件夹\n",
    "#     for train_or_test in ['train', 'test']:\n",
    "#         for spec in specises:\n",
    "#             os.mkdir(os.path.join(base_dir, train_or_test, spec))"
   ]
  },
  {
   "cell_type": "code",
   "execution_count": 5,
   "metadata": {},
   "outputs": [],
   "source": [
    "# # 文件夹已经存在，放入数据\n",
    "# image_dir = '/home/leo/SMD/dataset2'\n",
    "# # enumerate 对应 i, 代表序号\n",
    "# for i, img in enumerate(os.listdir(image_dir)):\n",
    "#     for spec in specises:\n",
    "#         if spec in img:\n",
    "#             s = os.path.join(image_dir, img)    # source dir\n",
    "#             # 这里是把 1/5 的数据作为测试集，4/5作为训练集\n",
    "#             if i % 5 == 0:\n",
    "#                 # 文件明的拼接\n",
    "#                 d = os.path.join(base_dir, 'test', spec, img)  # object dir\n",
    "#             else:\n",
    "#                 d = os.path.join(base_dir, 'train', spec, img)  # object dir\n",
    "#             shutil.copy(s, d)"
   ]
  },
  {
   "cell_type": "code",
   "execution_count": 6,
   "metadata": {},
   "outputs": [
    {
     "name": "stdout",
     "output_type": "stream",
     "text": [
      "train aphids 266\n",
      "train armyworm 223\n",
      "train beetle 291\n",
      "train bollworm 245\n",
      "train grasshopper 277\n",
      "train mites 254\n",
      "train mosquito 295\n",
      "train sawfly 200\n",
      "train stem_borer 181\n",
      "test aphids 44\n",
      "test armyworm 43\n",
      "test beetle 50\n",
      "test bollworm 36\n",
      "test grasshopper 46\n",
      "test mites 42\n",
      "test mosquito 50\n",
      "test sawfly 37\n",
      "test stem_borer 36\n"
     ]
    }
   ],
   "source": [
    "base_dir = \"/home/leo/SMD/BAUInsectv2Pest\"\n",
    "train_dir = os.path.join(base_dir, 'train')\n",
    "test_dir = os.path.join(base_dir, 'test')\n",
    "\n",
    "for train_or_test in ['train', 'test']:\n",
    "    for spec in specises:\n",
    "        print(train_or_test, spec, len(os.listdir(os.path.join(base_dir, train_or_test, spec))))"
   ]
  },
  {
   "cell_type": "code",
   "execution_count": 7,
   "metadata": {},
   "outputs": [],
   "source": [
    "transform = transforms.Compose([\n",
    "    # transforms.Resize((156, 156)),\n",
    "    transforms.Resize((256, 256)),\n",
    "    transforms.ToTensor(),   # 三个作用，归一化，channel first， tensor\n",
    "    # RGB 三个维度\n",
    "    transforms.Normalize(mean=[0.5,0.5,0.5], std=[0.5,0.5,0.5])  # 这里的均值方差是猜的，知道的情况可以用正确的\n",
    "])"
   ]
  },
  {
   "cell_type": "code",
   "execution_count": 8,
   "metadata": {},
   "outputs": [],
   "source": [
    "# train\n",
    "train_ds = torchvision.datasets.ImageFolder(\n",
    "                                train_dir, transform=transform)\n",
    "test_ds = torchvision.datasets.ImageFolder(\n",
    "                                test_dir, transform=transform)"
   ]
  },
  {
   "cell_type": "code",
   "execution_count": 9,
   "metadata": {},
   "outputs": [
    {
     "name": "stdout",
     "output_type": "stream",
     "text": [
      "['aphids', 'armyworm', 'beetle', 'bollworm', 'grasshopper', 'mites', 'mosquito', 'sawfly', 'stem_borer'] {'aphids': 0, 'armyworm': 1, 'beetle': 2, 'bollworm': 3, 'grasshopper': 4, 'mites': 5, 'mosquito': 6, 'sawfly': 7, 'stem_borer': 8}\n",
      "2232 384\n",
      "dict_keys(['aphids', 'armyworm', 'beetle', 'bollworm', 'grasshopper', 'mites', 'mosquito', 'sawfly', 'stem_borer'])\n"
     ]
    }
   ],
   "source": [
    "# 查看类别 \n",
    "# 查看编号 \n",
    "print(train_ds.classes, train_ds.class_to_idx)\n",
    "\n",
    "# 长度\n",
    "print(len(train_ds), len(test_ds))\n",
    "\n",
    "# 返回可遍历的(键, 值) 元组数组\n",
    "print(train_ds.class_to_idx.keys())\n",
    "# train_ds.class_to_idx"
   ]
  },
  {
   "cell_type": "code",
   "execution_count": 10,
   "metadata": {},
   "outputs": [],
   "source": [
    "train_dl = torch.utils.data.DataLoader(train_ds, batch_size=BATCHSZ, shuffle=True)\n",
    "test_dl = torch.utils.data.DataLoader(test_ds, batch_size=BATCHSZ)"
   ]
  },
  {
   "cell_type": "code",
   "execution_count": 11,
   "metadata": {},
   "outputs": [],
   "source": [
    "# # 拿出来一个批次的数据\n",
    "imgs, labels = next(iter(train_dl))\n",
    "\n",
    "# # 因为已经用torch的dataset，所以需要改变维度顺序\n",
    "# # permute 交换channel的顺序，的应用对象是 torch的tensor\n",
    "# print(imgs[0].shape)\n",
    "# img = (imgs[0].permute(1, 2, 0).numpy() + 1) / 2\n",
    "# print(img.shape, img.max(), type(img))\n",
    "\n",
    "# print(\"labels\", labels)\n",
    "\n",
    "# # plt.figure(figsize=(12, 8))\n",
    "# plt.title(labels[0].numpy())\n",
    "# plt.imshow(img)"
   ]
  },
  {
   "cell_type": "code",
   "execution_count": 12,
   "metadata": {},
   "outputs": [
    {
     "data": {
      "text/plain": [
       "{0: 'aphids',\n",
       " 1: 'armyworm',\n",
       " 2: 'beetle',\n",
       " 3: 'bollworm',\n",
       " 4: 'grasshopper',\n",
       " 5: 'mites',\n",
       " 6: 'mosquito',\n",
       " 7: 'sawfly',\n",
       " 8: 'stem_borer'}"
      ]
     },
     "execution_count": 12,
     "metadata": {},
     "output_type": "execute_result"
    }
   ],
   "source": [
    "# 交换键和值的位置,用于获取值写 title\n",
    "# 可能这种写法比较简单吧，我没有试验直接获得字符串标签的写法\n",
    "id_to_class = dict((v, k) for k, v in train_ds.class_to_idx.items())\n",
    "id_to_class"
   ]
  },
  {
   "cell_type": "code",
   "execution_count": 13,
   "metadata": {},
   "outputs": [],
   "source": [
    "# plt.figure(figsize=(12, 8))\n",
    "# for i, (img, label) in enumerate(zip(imgs[:6], labels[:6])):\n",
    "#     img = (img.permute(1, 2, 0).numpy() + 1) / 2\n",
    "#     plt.subplot(2, 3, i+1)\n",
    "#     plt.title(id_to_class.get(label.item()))\n",
    "#     plt.imshow(img)"
   ]
  },
  {
   "cell_type": "markdown",
   "metadata": {},
   "source": [
    "# Model"
   ]
  },
  {
   "cell_type": "code",
   "execution_count": 14,
   "metadata": {},
   "outputs": [
    {
     "name": "stdout",
     "output_type": "stream",
     "text": [
      "mobilenetv3_large\n"
     ]
    }
   ],
   "source": [
    "if model_name == \"basicCnnNet1\":\n",
    "    model = basic_cnn.Net1(classes=torch.max(labels).item()+1).to(device)\n",
    "elif model_name == \"basicCnnNet2\":\n",
    "    model = basic_cnn.Net2(classes=torch.max(labels).item()+1).to(device)\n",
    "elif model_name ==\"mobileNetV2\":\n",
    "    model = mobileNetV2.mobilenet_v2(pretrained=False).to(device)\n",
    "elif model_name ==\"mobilenetv3_large\":\n",
    "    model = mobileNetV3.mobilenetv3_large().to(device)\n",
    "elif model_name ==\"mobilenetv3_small\":\n",
    "    model = mobileNetV3.mobilenetv3_small().to(device)\n",
    "elif model_name ==\"mobileNetV1\":\n",
    "    model = mobileNetV1.MyMobileNet_v1(num_classes=9).to(device)\n",
    "elif model_name ==\"resNet50\":\n",
    "    # model = InceptionV3.MyInception_v3(num_classes=9).to(device)\n",
    "    model = resNet50.resnet50(num_classes=9).to(device)\n",
    "elif model_name ==\"InceptionV3\":\n",
    "    # model = InceptionV3.MyInception_v3(num_classes=9).to(device)\n",
    "    model = InceptionV3.GoogLeNetV3(num_classes=9).to(device)\n",
    "print(model_name)"
   ]
  },
  {
   "cell_type": "code",
   "execution_count": 15,
   "metadata": {},
   "outputs": [],
   "source": [
    "# # FLOPs and Params\n",
    "# flops, params = profile(model, \n",
    "#             inputs=(torch.randn(2, 3, 256, 256).to(device),))\n",
    "\n",
    "# # flops, params = profile(model, inputs=(torch.randn(2, hsi_bands).to(args.device),  torch.randn(2, sar_bands).to(args.device)))\n",
    "\n",
    "# flops, params = clever_format([flops, params])\n",
    "# print('# Model FLOPs: {}'.format(flops))\n",
    "# print('# Model Params: {}'.format(params))"
   ]
  },
  {
   "cell_type": "code",
   "execution_count": 16,
   "metadata": {},
   "outputs": [
    {
     "name": "stdout",
     "output_type": "stream",
     "text": [
      "mobilenetv3_large\n"
     ]
    }
   ],
   "source": [
    "# smoothing = 0.1\n",
    "# if model_name == 'InceptionV3':\n",
    "#     loss_fn = InceptionV3.Loss_Inception_v3(9, smoothing)\n",
    "#     # loss_fn = LabelSmoothingCrossEntropy(smoothing)\n",
    "# else:\n",
    "loss_fn = nn.CrossEntropyLoss()\n",
    "optim = torch.optim.Adam(model.parameters(), lr=0.001)\n",
    "print(model_name)"
   ]
  },
  {
   "cell_type": "markdown",
   "metadata": {},
   "source": [
    "# Train"
   ]
  },
  {
   "cell_type": "code",
   "execution_count": 17,
   "metadata": {},
   "outputs": [],
   "source": [
    "def fit(epoch, model, trainloader, testloader):\n",
    "    correct = 0\n",
    "    total = 0\n",
    "    running_loss = 0\n",
    "    best_loss = float('inf')\n",
    "\n",
    "    # 训练模式影响 dropout，Batch Normalization\n",
    "    model.train()\n",
    "    for x, y in trainloader:\n",
    "        x, y = x.to(device), y.to(device)\n",
    "        y_pred = model(x)\n",
    "        # print(\"y_pred\", y_pred, \"y\", y.shape)\n",
    "        # print(\"y_pred\", y_pred.shape, \"y\", y.shape)\n",
    "\n",
    "\n",
    "        loss = loss_fn(y_pred, y)\n",
    "        optim.zero_grad()\n",
    "        loss.backward()\n",
    "        optim.step()\n",
    "\n",
    "        with torch.no_grad():\n",
    "            y_pred = torch.argmax(y_pred, dim=1)\n",
    "            correct += (y_pred == y).sum().item()\n",
    "            total += y.size(0)\n",
    "            running_loss += loss.item()\n",
    "        \n",
    "    # 每一个样本的平均 loss 和 acc\n",
    "    epoch_loss = running_loss / len(trainloader.dataset)\n",
    "    epoch_accuracy = correct / total\n",
    "\n",
    "    test_correct = 0\n",
    "    test_total = 0\n",
    "    test_running_loss = 0\n",
    "\n",
    "    # 预测模式影响 dropout Batch, Normalization\n",
    "    model.eval()\n",
    "    with torch.no_grad():\n",
    "        for x, y in testloader:\n",
    "            x, y = x.to(device), y.to(device)\n",
    "            y_pred = model(x)\n",
    "\n",
    "            loss = loss_fn(y_pred, y)\n",
    "            y_pred = torch.argmax(y_pred, dim=1)\n",
    "            test_correct += (y_pred == y).sum().item()\n",
    "            test_total += y.size(0)\n",
    "            test_running_loss += loss.item()\n",
    "\n",
    "    epoch_test_loss = test_running_loss / len(testloader.dataset)\n",
    "    epoch_test_accuracy = test_correct / test_total\n",
    "\n",
    "    print('epoch', epoch, \n",
    "            'loss: ', round(epoch_loss, 3),\n",
    "            'accuracy: ', round(epoch_accuracy, 3),\n",
    "            'test_loss: ', round(epoch_test_loss, 3),\n",
    "            'test_accuracy', round(epoch_test_accuracy, 3)\n",
    "            )\n",
    "\n",
    "        # if best_loss > trainloss and best_scc < valOA:\n",
    "    if best_loss > running_loss:\n",
    "    # if best_scc < valOA:\n",
    "        best_loss = running_loss\n",
    "        \n",
    "        best_epoch = epoch + 1\n",
    "        torch.save({\"epoch\" : best_epoch,\n",
    "                    \"model\" : model.state_dict(),\n",
    "                    \"optimizer\" : optim.state_dict()}, \n",
    "                    os.path.join(result_dir, 'weights.pth'))\n",
    "        print(\"bestnet save\")\n",
    "\n",
    "    return epoch_loss, epoch_accuracy, epoch_test_loss, epoch_test_accuracy"
   ]
  },
  {
   "cell_type": "code",
   "execution_count": 18,
   "metadata": {},
   "outputs": [
    {
     "name": "stdout",
     "output_type": "stream",
     "text": [
      "epoch 0 loss:  0.124 accuracy:  0.269 test_loss:  0.144 test_accuracy 0.307\n",
      "bestnet save\n",
      "epoch 1 loss:  0.096 accuracy:  0.432 test_loss:  0.111 test_accuracy 0.435\n",
      "bestnet save\n",
      "epoch 2 loss:  0.068 accuracy:  0.617 test_loss:  0.068 test_accuracy 0.615\n",
      "bestnet save\n",
      "epoch 3 loss:  0.052 accuracy:  0.696 test_loss:  0.045 test_accuracy 0.792\n",
      "bestnet save\n",
      "epoch 4 loss:  0.034 accuracy:  0.806 test_loss:  0.037 test_accuracy 0.807\n",
      "bestnet save\n",
      "epoch 5 loss:  0.029 accuracy:  0.843 test_loss:  0.029 test_accuracy 0.878\n",
      "bestnet save\n",
      "epoch 6 loss:  0.019 accuracy:  0.896 test_loss:  0.045 test_accuracy 0.857\n",
      "bestnet save\n",
      "epoch 7 loss:  0.017 accuracy:  0.914 test_loss:  0.026 test_accuracy 0.919\n",
      "bestnet save\n",
      "epoch 8 loss:  0.016 accuracy:  0.92 test_loss:  0.025 test_accuracy 0.927\n",
      "bestnet save\n",
      "epoch 9 loss:  0.012 accuracy:  0.945 test_loss:  0.027 test_accuracy 0.935\n",
      "bestnet save\n",
      "epoch 10 loss:  0.011 accuracy:  0.94 test_loss:  0.022 test_accuracy 0.943\n",
      "bestnet save\n",
      "epoch 11 loss:  0.008 accuracy:  0.963 test_loss:  0.03 test_accuracy 0.909\n",
      "bestnet save\n",
      "epoch 12 loss:  0.01 accuracy:  0.949 test_loss:  0.02 test_accuracy 0.948\n",
      "bestnet save\n",
      "epoch 13 loss:  0.009 accuracy:  0.949 test_loss:  0.026 test_accuracy 0.914\n",
      "bestnet save\n",
      "epoch 14 loss:  0.008 accuracy:  0.959 test_loss:  0.029 test_accuracy 0.93\n",
      "bestnet save\n",
      "epoch 15 loss:  0.008 accuracy:  0.961 test_loss:  0.023 test_accuracy 0.943\n",
      "bestnet save\n",
      "epoch 16 loss:  0.008 accuracy:  0.961 test_loss:  0.029 test_accuracy 0.919\n",
      "bestnet save\n",
      "epoch 17 loss:  0.01 accuracy:  0.948 test_loss:  0.024 test_accuracy 0.932\n",
      "bestnet save\n",
      "epoch 18 loss:  0.006 accuracy:  0.971 test_loss:  0.024 test_accuracy 0.938\n",
      "bestnet save\n",
      "epoch 19 loss:  0.007 accuracy:  0.963 test_loss:  0.035 test_accuracy 0.909\n",
      "bestnet save\n",
      "epoch 20 loss:  0.011 accuracy:  0.953 test_loss:  0.028 test_accuracy 0.943\n",
      "bestnet save\n",
      "epoch 21 loss:  0.004 accuracy:  0.976 test_loss:  0.03 test_accuracy 0.93\n",
      "bestnet save\n",
      "epoch 22 loss:  0.002 accuracy:  0.987 test_loss:  0.024 test_accuracy 0.945\n",
      "bestnet save\n",
      "epoch 23 loss:  0.003 accuracy:  0.983 test_loss:  0.026 test_accuracy 0.948\n",
      "bestnet save\n",
      "epoch 24 loss:  0.004 accuracy:  0.983 test_loss:  0.023 test_accuracy 0.945\n",
      "bestnet save\n",
      "epoch 25 loss:  0.008 accuracy:  0.964 test_loss:  0.022 test_accuracy 0.94\n",
      "bestnet save\n",
      "epoch 26 loss:  0.004 accuracy:  0.979 test_loss:  0.029 test_accuracy 0.943\n",
      "bestnet save\n",
      "epoch 27 loss:  0.009 accuracy:  0.953 test_loss:  0.026 test_accuracy 0.94\n",
      "bestnet save\n",
      "epoch 28 loss:  0.005 accuracy:  0.973 test_loss:  0.023 test_accuracy 0.943\n",
      "bestnet save\n",
      "epoch 29 loss:  0.006 accuracy:  0.967 test_loss:  0.027 test_accuracy 0.948\n",
      "bestnet save\n",
      "epoch 30 loss:  0.004 accuracy:  0.981 test_loss:  0.029 test_accuracy 0.932\n",
      "bestnet save\n",
      "epoch 31 loss:  0.011 accuracy:  0.948 test_loss:  0.026 test_accuracy 0.945\n",
      "bestnet save\n",
      "epoch 32 loss:  0.002 accuracy:  0.991 test_loss:  0.032 test_accuracy 0.943\n",
      "bestnet save\n",
      "epoch 33 loss:  0.001 accuracy:  0.992 test_loss:  0.036 test_accuracy 0.94\n",
      "bestnet save\n",
      "epoch 34 loss:  0.001 accuracy:  0.995 test_loss:  0.034 test_accuracy 0.948\n",
      "bestnet save\n",
      "epoch 35 loss:  0.002 accuracy:  0.992 test_loss:  0.041 test_accuracy 0.932\n",
      "bestnet save\n",
      "epoch 36 loss:  0.006 accuracy:  0.972 test_loss:  0.034 test_accuracy 0.932\n",
      "bestnet save\n",
      "epoch 37 loss:  0.011 accuracy:  0.953 test_loss:  0.026 test_accuracy 0.953\n",
      "bestnet save\n",
      "epoch 38 loss:  0.004 accuracy:  0.977 test_loss:  0.028 test_accuracy 0.935\n",
      "bestnet save\n",
      "epoch 39 loss:  0.002 accuracy:  0.991 test_loss:  0.027 test_accuracy 0.951\n",
      "bestnet save\n",
      "epoch 40 loss:  0.006 accuracy:  0.974 test_loss:  0.029 test_accuracy 0.943\n",
      "bestnet save\n",
      "epoch 41 loss:  0.005 accuracy:  0.98 test_loss:  0.029 test_accuracy 0.943\n",
      "bestnet save\n",
      "epoch 42 loss:  0.006 accuracy:  0.967 test_loss:  0.036 test_accuracy 0.932\n",
      "bestnet save\n",
      "epoch 43 loss:  0.005 accuracy:  0.974 test_loss:  0.037 test_accuracy 0.94\n",
      "bestnet save\n",
      "epoch 44 loss:  0.006 accuracy:  0.968 test_loss:  0.035 test_accuracy 0.932\n",
      "bestnet save\n",
      "epoch 45 loss:  0.003 accuracy:  0.982 test_loss:  0.034 test_accuracy 0.943\n",
      "bestnet save\n",
      "epoch 46 loss:  0.005 accuracy:  0.977 test_loss:  0.036 test_accuracy 0.943\n",
      "bestnet save\n",
      "epoch 47 loss:  0.002 accuracy:  0.99 test_loss:  0.03 test_accuracy 0.951\n",
      "bestnet save\n",
      "epoch 48 loss:  0.004 accuracy:  0.983 test_loss:  0.034 test_accuracy 0.945\n",
      "bestnet save\n",
      "epoch 49 loss:  0.004 accuracy:  0.98 test_loss:  0.029 test_accuracy 0.945\n",
      "bestnet save\n",
      "epoch 50 loss:  0.006 accuracy:  0.975 test_loss:  0.034 test_accuracy 0.94\n",
      "bestnet save\n",
      "epoch 51 loss:  0.005 accuracy:  0.98 test_loss:  0.029 test_accuracy 0.945\n",
      "bestnet save\n",
      "epoch 52 loss:  0.002 accuracy:  0.982 test_loss:  0.024 test_accuracy 0.94\n",
      "bestnet save\n",
      "epoch 53 loss:  0.003 accuracy:  0.982 test_loss:  0.029 test_accuracy 0.932\n",
      "bestnet save\n",
      "epoch 54 loss:  0.003 accuracy:  0.988 test_loss:  0.029 test_accuracy 0.938\n",
      "bestnet save\n",
      "epoch 55 loss:  0.007 accuracy:  0.969 test_loss:  0.026 test_accuracy 0.951\n",
      "bestnet save\n",
      "epoch 56 loss:  0.003 accuracy:  0.982 test_loss:  0.028 test_accuracy 0.938\n",
      "bestnet save\n",
      "epoch 57 loss:  0.005 accuracy:  0.976 test_loss:  0.032 test_accuracy 0.948\n",
      "bestnet save\n",
      "epoch 58 loss:  0.003 accuracy:  0.987 test_loss:  0.033 test_accuracy 0.945\n",
      "bestnet save\n",
      "epoch 59 loss:  0.001 accuracy:  0.998 test_loss:  0.034 test_accuracy 0.948\n",
      "bestnet save\n",
      "epoch 60 loss:  0.001 accuracy:  0.997 test_loss:  0.031 test_accuracy 0.953\n",
      "bestnet save\n",
      "epoch 61 loss:  0.001 accuracy:  0.995 test_loss:  0.036 test_accuracy 0.94\n",
      "bestnet save\n",
      "epoch 62 loss:  0.002 accuracy:  0.988 test_loss:  0.034 test_accuracy 0.945\n",
      "bestnet save\n",
      "epoch 63 loss:  0.002 accuracy:  0.985 test_loss:  0.042 test_accuracy 0.927\n",
      "bestnet save\n",
      "epoch 64 loss:  0.015 accuracy:  0.932 test_loss:  0.032 test_accuracy 0.94\n",
      "bestnet save\n",
      "epoch 65 loss:  0.003 accuracy:  0.987 test_loss:  0.029 test_accuracy 0.943\n",
      "bestnet save\n",
      "epoch 66 loss:  0.002 accuracy:  0.991 test_loss:  0.028 test_accuracy 0.948\n",
      "bestnet save\n",
      "epoch 67 loss:  0.002 accuracy:  0.992 test_loss:  0.028 test_accuracy 0.953\n",
      "bestnet save\n",
      "epoch 68 loss:  0.001 accuracy:  0.997 test_loss:  0.027 test_accuracy 0.951\n",
      "bestnet save\n",
      "epoch 69 loss:  0.003 accuracy:  0.983 test_loss:  0.029 test_accuracy 0.932\n",
      "bestnet save\n",
      "epoch 70 loss:  0.006 accuracy:  0.964 test_loss:  0.023 test_accuracy 0.951\n",
      "bestnet save\n",
      "epoch 71 loss:  0.003 accuracy:  0.987 test_loss:  0.024 test_accuracy 0.951\n",
      "bestnet save\n",
      "epoch 72 loss:  0.003 accuracy:  0.984 test_loss:  0.028 test_accuracy 0.948\n",
      "bestnet save\n",
      "epoch 73 loss:  0.002 accuracy:  0.988 test_loss:  0.032 test_accuracy 0.943\n",
      "bestnet save\n",
      "epoch 74 loss:  0.001 accuracy:  0.996 test_loss:  0.027 test_accuracy 0.951\n",
      "bestnet save\n",
      "epoch 75 loss:  0.001 accuracy:  0.996 test_loss:  0.031 test_accuracy 0.951\n",
      "bestnet save\n",
      "epoch 76 loss:  0.001 accuracy:  0.996 test_loss:  0.029 test_accuracy 0.948\n",
      "bestnet save\n",
      "epoch 77 loss:  0.001 accuracy:  0.994 test_loss:  0.029 test_accuracy 0.948\n",
      "bestnet save\n",
      "epoch 78 loss:  0.002 accuracy:  0.991 test_loss:  0.029 test_accuracy 0.951\n",
      "bestnet save\n",
      "epoch 79 loss:  0.001 accuracy:  0.997 test_loss:  0.034 test_accuracy 0.948\n",
      "bestnet save\n",
      "epoch 80 loss:  0.008 accuracy:  0.965 test_loss:  0.027 test_accuracy 0.943\n",
      "bestnet save\n",
      "epoch 81 loss:  0.004 accuracy:  0.979 test_loss:  0.027 test_accuracy 0.943\n",
      "bestnet save\n",
      "epoch 82 loss:  0.002 accuracy:  0.99 test_loss:  0.029 test_accuracy 0.948\n",
      "bestnet save\n",
      "epoch 83 loss:  0.002 accuracy:  0.991 test_loss:  0.027 test_accuracy 0.943\n",
      "bestnet save\n",
      "epoch 84 loss:  0.003 accuracy:  0.988 test_loss:  0.026 test_accuracy 0.948\n",
      "bestnet save\n",
      "epoch 85 loss:  0.002 accuracy:  0.994 test_loss:  0.025 test_accuracy 0.951\n",
      "bestnet save\n",
      "epoch 86 loss:  0.001 accuracy:  0.995 test_loss:  0.028 test_accuracy 0.948\n",
      "bestnet save\n",
      "epoch 87 loss:  0.002 accuracy:  0.989 test_loss:  0.028 test_accuracy 0.953\n",
      "bestnet save\n",
      "epoch 88 loss:  0.001 accuracy:  0.993 test_loss:  0.031 test_accuracy 0.948\n",
      "bestnet save\n",
      "epoch 89 loss:  0.006 accuracy:  0.977 test_loss:  0.035 test_accuracy 0.93\n",
      "bestnet save\n",
      "epoch 90 loss:  0.006 accuracy:  0.972 test_loss:  0.03 test_accuracy 0.94\n",
      "bestnet save\n",
      "epoch 91 loss:  0.004 accuracy:  0.978 test_loss:  0.03 test_accuracy 0.945\n",
      "bestnet save\n",
      "epoch 92 loss:  0.003 accuracy:  0.986 test_loss:  0.034 test_accuracy 0.948\n",
      "bestnet save\n",
      "epoch 93 loss:  0.001 accuracy:  0.995 test_loss:  0.031 test_accuracy 0.948\n",
      "bestnet save\n",
      "epoch 94 loss:  0.001 accuracy:  0.996 test_loss:  0.031 test_accuracy 0.943\n",
      "bestnet save\n",
      "epoch 95 loss:  0.0 accuracy:  0.999 test_loss:  0.031 test_accuracy 0.943\n",
      "bestnet save\n",
      "epoch 96 loss:  0.0 accuracy:  1.0 test_loss:  0.033 test_accuracy 0.945\n",
      "bestnet save\n",
      "epoch 97 loss:  0.0 accuracy:  1.0 test_loss:  0.031 test_accuracy 0.945\n",
      "bestnet save\n",
      "epoch 98 loss:  0.0 accuracy:  0.998 test_loss:  0.029 test_accuracy 0.945\n",
      "bestnet save\n",
      "epoch 99 loss:  0.0 accuracy:  0.999 test_loss:  0.031 test_accuracy 0.945\n",
      "bestnet save\n",
      "程序运行时间：1529.629 s\n",
      "bestnet save\n"
     ]
    }
   ],
   "source": [
    "train_loss = []\n",
    "train_acc = []\n",
    "test_loss = []\n",
    "test_acc = []\n",
    "\n",
    "starttime = time.time()\n",
    "for epoch in range(epoches):\n",
    "    epoch_loss, epoch_acc, epoch_test_loss, epoch_test_acc = fit(epoch,\n",
    "                                                                 model,\n",
    "                                                                 train_dl,\n",
    "                                                                 test_dl)\n",
    "    train_loss.append(epoch_loss)\n",
    "    train_acc.append(epoch_acc)\n",
    "    test_loss.append(epoch_test_loss)\n",
    "    test_acc.append(epoch_test_acc)\n",
    "\n",
    "endtime = time.time()\n",
    "dtime = endtime - starttime\n",
    "print(\"程序运行时间：%.8s s\" % dtime)  \n",
    "\n",
    "torch.save({\"epoch\" : epoch,\n",
    "            \"train_loss\" : train_loss,\n",
    "            \"train_acc\" : train_acc,\n",
    "            \"test_loss\" : test_loss,\n",
    "            \"test_acc\" : test_acc\n",
    "            }, \n",
    "            os.path.join(result_dir, 'theCurve.pth'))\n",
    "print(\"bestnet save\")\n",
    "\n",
    "# 没有 dropout层\n",
    "# 程序运行时间：240.0455 s\n",
    "# epoch 9 loss:  0.007 accuracy:  0.96 test_loss:  0.034 test_accuracy 0.924\n",
    "# epoch 20 loss:  0.0 accuracy:  1.0 test_loss:  0.069 test_accuracy 0.911\n",
    "\n",
    "# 加入 dropout 层\n",
    "# 程序运行时间：238.4812 s\n",
    "# epoch 10 loss:  0.005 accuracy:  0.968 test_loss:  0.037 test_accuracy 0.929\n",
    "\n",
    "# 加入 dropout2d 层\n",
    "# 程序运行时间：238.0065 s\n",
    "# epoch 23 loss:  0.01 accuracy:  0.954 test_loss:  0.028 test_accuracy 0.929"
   ]
  },
  {
   "cell_type": "code",
   "execution_count": 19,
   "metadata": {},
   "outputs": [
    {
     "data": {
      "text/plain": [
       "<matplotlib.legend.Legend at 0x7ff6b7f130b0>"
      ]
     },
     "execution_count": 19,
     "metadata": {},
     "output_type": "execute_result"
    },
    {
     "data": {
      "image/png": "[encoded data removed]",
      "text/plain": [
       "<Figure size 640x480 with 1 Axes>"
      ]
     },
     "metadata": {},
     "output_type": "display_data"
    }
   ],
   "source": [
    "plt.plot(range(1, epoches+1), train_loss, label=\"train_loss\")\n",
    "plt.plot(range(1, epoches+1), test_loss, label=\"test_loss\")\n",
    "plt.legend()"
   ]
  },
  {
   "cell_type": "code",
   "execution_count": 20,
   "metadata": {},
   "outputs": [
    {
     "data": {
      "text/plain": [
       "<matplotlib.legend.Legend at 0x7ff6b7f6e210>"
      ]
     },
     "execution_count": 20,
     "metadata": {},
     "output_type": "execute_result"
    },
    {
     "data": {
      "image/png": "[encoded data removed]",
      "text/plain": [
       "<Figure size 640x480 with 1 Axes>"
      ]
     },
     "metadata": {},
     "output_type": "display_data"
    }
   ],
   "source": [
    "plt.plot(range(1, epoches+1), train_acc, label=\"train_acc\")\n",
    "plt.plot(range(1, epoches+1), test_acc, label=\"test_acc\")\n",
    "plt.legend()"
   ]
  },
  {
   "cell_type": "markdown",
   "metadata": {},
   "source": [
    "# Test"
   ]
  },
  {
   "cell_type": "code",
   "execution_count": 21,
   "metadata": {},
   "outputs": [
    {
     "name": "stdout",
     "output_type": "stream",
     "text": [
      "Loaded from: /home/leo/Classification/04CNN/results/0823-105305-mobilenetv3_large/weights.pth start 101\n"
     ]
    }
   ],
   "source": [
    "path = os.path.join(result_dir, 'weights.pth')\n",
    "if path != '':\n",
    "    checkpoint = torch.load(path)\n",
    "    model.load_state_dict(checkpoint['model'], strict=False)\n",
    "    epoch_start = checkpoint['epoch'] + 1\n",
    "    print('Loaded from: {}'.format(path), \"start\", epoch_start)"
   ]
  },
  {
   "cell_type": "code",
   "execution_count": 22,
   "metadata": {},
   "outputs": [],
   "source": [
    "def test(model, testloader):\n",
    "\n",
    "    test_correct = 0\n",
    "    test_total = 0\n",
    "    test_running_loss = 0\n",
    "    test_pred_list = []\n",
    "    test_label_list = []\n",
    "\n",
    "    # 预测模式影响 dropout Batch, Normalization\n",
    "    model.eval()\n",
    "    with torch.no_grad():\n",
    "        for x, y in testloader:\n",
    "            x, y = x.to(device), y.to(device)\n",
    "                \n",
    "            y_pred = model(x)\n",
    "            loss = loss_fn(y_pred, y)\n",
    "            y_pred = torch.argmax(y_pred, dim=1)\n",
    "            test_correct += (y_pred == y).sum().item()\n",
    "            test_total += y.size(0)\n",
    "            test_running_loss += loss.item()\n",
    "\n",
    "            test_label_list.extend(y.cpu().numpy())\n",
    "            test_pred_list.extend(y_pred.cpu().numpy())\n",
    "\n",
    "    test_loss = test_running_loss / len(testloader.dataset)\n",
    "    test_accuracy = test_correct / test_total\n",
    "\n",
    "    print('test_loss: ', round(test_loss, 3),\n",
    "        'test_accuracy', round(test_accuracy, 3))\n",
    "\n",
    "    return test_loss, test_accuracy, test_pred_list, test_label_list"
   ]
  },
  {
   "cell_type": "code",
   "execution_count": 23,
   "metadata": {},
   "outputs": [
    {
     "name": "stdout",
     "output_type": "stream",
     "text": [
      "test_loss:  0.031 test_accuracy 0.945\n"
     ]
    }
   ],
   "source": [
    "starttime = time.time()\n",
    "test_loss, test_acc, test_preds, test_labels = test(model, test_dl)\n",
    "test_time = time.time() - starttime"
   ]
  },
  {
   "cell_type": "code",
   "execution_count": 24,
   "metadata": {},
   "outputs": [
    {
     "name": "stdout",
     "output_type": "stream",
     "text": [
      "accuracy 0.9453125\n",
      "precision 0.9432475319638041\n",
      "recall 0.9421693622940673\n",
      "f1 0.9421844266499306\n",
      "kappa 0.9383594627855958\n"
     ]
    }
   ],
   "source": [
    "matrix, classification, accuracy, precision, recall, f1, kappa = \\\n",
    "                            metric_log(test_preds, test_labels)\n",
    "f = open(os.path.join(result_dir, 'results.txt'), 'a+')\n",
    "str_results = '\\n ======================' \\\n",
    "            + '\\n' + classification \\\n",
    "            + \"\\nmatrix = \\t\\t\" + str(matrix) \\\n",
    "            + \"\\naccuracy = \\t\\t\" + str(round(accuracy, 4)) \\\n",
    "            + \"\\nprecision = \\t\" + str(round(precision, 4)) \\\n",
    "            + \"\\nrecall = \\t\\t\" + str(round(recall, 4)) \\\n",
    "            + \"\\nf1 = \\t\\t\\t\\t\" + str(round(f1, 4)) \\\n",
    "            + \"\\nkappa = \\t\\t\\t\" + str(round(kappa, 4)) \\\n",
    "            + '\\ntrain time = \\t' + str(round(dtime, 2)) \\\n",
    "            + '\\ntest time = \\t' + str(round(test_time, 2)) \\\n",
    "            + '\\n'\n",
    "f.write(str_results)\n",
    "f.close()"
   ]
  },
  {
   "cell_type": "code",
   "execution_count": null,
   "metadata": {},
   "outputs": [],
   "source": []
  },
  {
   "cell_type": "code",
   "execution_count": null,
   "metadata": {},
   "outputs": [],
   "source": []
  },
  {
   "cell_type": "code",
   "execution_count": null,
   "metadata": {},
   "outputs": [],
   "source": []
  }
 ],
 "metadata": {
  "kernelspec": {
   "display_name": "Python 3.8.5 64-bit ('pytorch': conda)",
   "metadata": {
    "interpreter": {
     "hash": "7561999865e8d32d6414ef8be0e097f8d3bcb29efcaa5381d7876f261ce057b4"
    }
   },
   "name": "python3"
  },
  "language_info": {
   "codemirror_mode": {
    "name": "ipython",
    "version": 3
   },
   "file_extension": ".py",
   "mimetype": "text/x-python",
   "name": "python",
   "nbconvert_exporter": "python",
   "pygments_lexer": "ipython3",
   "version": "3.12.4"
  },
  "orig_nbformat": 2
 },
 "nbformat": 4,
 "nbformat_minor": 2
}
