{
 "cells": [
  {
   "cell_type": "markdown",
   "metadata": {},
   "source": [
    "# 模型构建与模型优化\n",
    "- CNN2d 网络构建\n",
    "- dropout 缓解过拟和问题（模型优化1）\n",
    "- batch normalization 数据批标准化(模型优化2)\n",
    "- model.train and model.eval 训练和预测模式\n",
    "- 缓解过拟合问题的方法之三\n",
    "    - 增大训练集\n",
    "    - dropout：起到平局的作用，减少神经元之间复杂的共适应能力。 该层只有在训练的时候起作用，在预测的时候不起作用。\n",
    "    - batch normalization：正则化效果，提高模型的泛化能力，加快收敛速度，允许更深的模型，允许更大的学习速率"
   ]
  },
  {
   "cell_type": "code",
   "execution_count": 1,
   "metadata": {},
   "outputs": [
    {
     "name": "stderr",
     "output_type": "stream",
     "text": [
      "/root/miniconda3/envs/py12/lib/python3.12/site-packages/tqdm/auto.py:21: TqdmWarning: IProgress not found. Please update jupyter and ipywidgets. See https://ipywidgets.readthedocs.io/en/stable/user_install.html\n",
      "  from .autonotebook import tqdm as notebook_tqdm\n"
     ]
    }
   ],
   "source": [
    "import os\n",
    "# copy image\n",
    "import shutil\n",
    "\n",
    "import torch\n",
    "import torch.nn as nn\n",
    "import torch.nn.functional as F\n",
    "import torch.optim as optim\n",
    "import torchvision\n",
    "from torchvision import transforms\n",
    "\n",
    "import time\n",
    "import numpy as np\n",
    "from datetime import datetime\n",
    "import matplotlib.pyplot as plt\n",
    "from timm.loss import LabelSmoothingCrossEntropy\n",
    "from thop import profile, clever_format\n",
    "%matplotlib inline\n",
    "\n",
    "from model import basic_cnn, resNet50, InceptionV3\n",
    "from model import mobileNetV2, mobileNetV3, mobileNetV1\n",
    "from metrics.metrics_v1 import metric_log"
   ]
  },
  {
   "cell_type": "markdown",
   "metadata": {},
   "source": [
    "- torchvision.datasets.ImageFolder\n",
    "- 从分类文件夹中创建dataset\n",
    "- 所以要创建文件夹，并把各种图片放进去"
   ]
  },
  {
   "cell_type": "code",
   "execution_count": 2,
   "metadata": {},
   "outputs": [],
   "source": [
    "# specises = ['cloudy', 'rain', 'shine', 'sunrise']\n",
    "specises = ['aphids', 'armyworm', 'beetle', 'bollworm', \"grasshopper\", \"mites\", \"mosquito\", \"sawfly\", \"stem_borer\"]\n",
    "\n",
    "epoches = 100\n",
    "BATCHSZ = 16\n",
    "\n",
    "# model_name = \"basicCnnNet1\"\n",
    "# model_name = \"basicCnnNet2\"\n",
    "# model_name = 'mobileNetV2'\n",
    "# model_name = 'mobileNetV3'\n",
    "model_name = 'mobilenetv3_large'\n",
    "model_name = 'mobilenetv3_small'\n",
    "# model_name = 'mobileNetV1'\n",
    "# model_name = 'resNet50'\n",
    "# model_name = 'InceptionV3'\n",
    "path_head = '/home/leo/Classification/04CNN'\n",
    "\n",
    "device = torch.device(\"cuda\" if torch.cuda.is_available() else \"cpu\")"
   ]
  },
  {
   "cell_type": "code",
   "execution_count": 3,
   "metadata": {},
   "outputs": [],
   "source": [
    "# result_dir = \"/home/leo/Classification/04CNN/results/0822-221014-InceptionV3\"\n",
    "# result_dir = \"/home/leo/Classification/04CNN/results/0822-234330-resNet50\"\n",
    "result_dir = \"/home/leo/Classification/04CNN/results/0823-093508-mobileNetV1\"\n",
    "result_dir = \"/home/leo/Classification/04CNN/results/0823-095412-mobileNetV2\"\n",
    "result_dir = \"/home/leo/Classification/04CNN/results/0823-101520-mobilenetv3_small\"\n",
    "# result_dir = \"/home/leo/Classification/04CNN/results/0823-105305-mobilenetv3_large\""
   ]
  },
  {
   "cell_type": "code",
   "execution_count": 4,
   "metadata": {},
   "outputs": [
    {
     "name": "stdout",
     "output_type": "stream",
     "text": [
      "train aphids 266\n",
      "train armyworm 223\n",
      "train beetle 291\n",
      "train bollworm 245\n",
      "train grasshopper 277\n",
      "train mites 254\n",
      "train mosquito 295\n",
      "train sawfly 200\n",
      "train stem_borer 181\n",
      "test aphids 44\n",
      "test armyworm 43\n",
      "test beetle 50\n",
      "test bollworm 36\n",
      "test grasshopper 46\n",
      "test mites 42\n",
      "test mosquito 50\n",
      "test sawfly 37\n",
      "test stem_borer 36\n"
     ]
    }
   ],
   "source": [
    "base_dir = \"/home/leo/SMD/BAUInsectv2Pest\"\n",
    "train_dir = os.path.join(base_dir, 'train')\n",
    "test_dir = os.path.join(base_dir, 'test')\n",
    "\n",
    "for train_or_test in ['train', 'test']:\n",
    "    for spec in specises:\n",
    "        print(train_or_test, spec, len(os.listdir(os.path.join(base_dir, train_or_test, spec))))"
   ]
  },
  {
   "cell_type": "code",
   "execution_count": 5,
   "metadata": {},
   "outputs": [],
   "source": [
    "transform = transforms.Compose([\n",
    "    # transforms.Resize((156, 156)),\n",
    "    transforms.Resize((256, 256)),\n",
    "    transforms.ToTensor(),   # 三个作用，归一化，channel first， tensor\n",
    "    # RGB 三个维度\n",
    "    transforms.Normalize(mean=[0.5,0.5,0.5], std=[0.5,0.5,0.5])  # 这里的均值方差是猜的，知道的情况可以用正确的\n",
    "])"
   ]
  },
  {
   "cell_type": "code",
   "execution_count": 6,
   "metadata": {},
   "outputs": [],
   "source": [
    "# train\n",
    "train_ds = torchvision.datasets.ImageFolder(\n",
    "                                train_dir, transform=transform)\n",
    "test_ds = torchvision.datasets.ImageFolder(\n",
    "                                test_dir, transform=transform)"
   ]
  },
  {
   "cell_type": "code",
   "execution_count": 7,
   "metadata": {},
   "outputs": [
    {
     "name": "stdout",
     "output_type": "stream",
     "text": [
      "['aphids', 'armyworm', 'beetle', 'bollworm', 'grasshopper', 'mites', 'mosquito', 'sawfly', 'stem_borer'] {'aphids': 0, 'armyworm': 1, 'beetle': 2, 'bollworm': 3, 'grasshopper': 4, 'mites': 5, 'mosquito': 6, 'sawfly': 7, 'stem_borer': 8}\n",
      "2232 384\n",
      "dict_keys(['aphids', 'armyworm', 'beetle', 'bollworm', 'grasshopper', 'mites', 'mosquito', 'sawfly', 'stem_borer'])\n"
     ]
    }
   ],
   "source": [
    "# 查看类别 \n",
    "# 查看编号 \n",
    "print(train_ds.classes, train_ds.class_to_idx)\n",
    "\n",
    "# 长度\n",
    "print(len(train_ds), len(test_ds))\n",
    "\n",
    "# 返回可遍历的(键, 值) 元组数组\n",
    "print(train_ds.class_to_idx.keys())\n",
    "# train_ds.class_to_idx"
   ]
  },
  {
   "cell_type": "code",
   "execution_count": 8,
   "metadata": {},
   "outputs": [],
   "source": [
    "train_dl = torch.utils.data.DataLoader(train_ds, batch_size=BATCHSZ, shuffle=True)\n",
    "test_dl = torch.utils.data.DataLoader(test_ds, batch_size=BATCHSZ)"
   ]
  },
  {
   "cell_type": "code",
   "execution_count": 9,
   "metadata": {},
   "outputs": [],
   "source": [
    "# # 拿出来一个批次的数据\n",
    "imgs, labels = next(iter(train_dl))\n",
    "\n",
    "# # 因为已经用torch的dataset，所以需要改变维度顺序\n",
    "# # permute 交换channel的顺序，的应用对象是 torch的tensor\n",
    "# print(imgs[0].shape)\n",
    "# img = (imgs[0].permute(1, 2, 0).numpy() + 1) / 2\n",
    "# print(img.shape, img.max(), type(img))\n",
    "\n",
    "# print(\"labels\", labels)\n",
    "\n",
    "# # plt.figure(figsize=(12, 8))\n",
    "# plt.title(labels[0].numpy())\n",
    "# plt.imshow(img)"
   ]
  },
  {
   "cell_type": "code",
   "execution_count": 10,
   "metadata": {},
   "outputs": [
    {
     "data": {
      "text/plain": [
       "{0: 'aphids',\n",
       " 1: 'armyworm',\n",
       " 2: 'beetle',\n",
       " 3: 'bollworm',\n",
       " 4: 'grasshopper',\n",
       " 5: 'mites',\n",
       " 6: 'mosquito',\n",
       " 7: 'sawfly',\n",
       " 8: 'stem_borer'}"
      ]
     },
     "execution_count": 10,
     "metadata": {},
     "output_type": "execute_result"
    }
   ],
   "source": [
    "# 交换键和值的位置,用于获取值写 title\n",
    "# 可能这种写法比较简单吧，我没有试验直接获得字符串标签的写法\n",
    "id_to_class = dict((v, k) for k, v in train_ds.class_to_idx.items())\n",
    "id_to_class"
   ]
  },
  {
   "cell_type": "code",
   "execution_count": 11,
   "metadata": {},
   "outputs": [],
   "source": [
    "# plt.figure(figsize=(12, 8))\n",
    "# for i, (img, label) in enumerate(zip(imgs[:6], labels[:6])):\n",
    "#     img = (img.permute(1, 2, 0).numpy() + 1) / 2\n",
    "#     plt.subplot(2, 3, i+1)\n",
    "#     plt.title(id_to_class.get(label.item()))\n",
    "#     plt.imshow(img)"
   ]
  },
  {
   "cell_type": "markdown",
   "metadata": {},
   "source": [
    "# Model"
   ]
  },
  {
   "cell_type": "code",
   "execution_count": 12,
   "metadata": {},
   "outputs": [
    {
     "name": "stdout",
     "output_type": "stream",
     "text": [
      "mobilenetv3_small\n"
     ]
    }
   ],
   "source": [
    "if model_name == \"basicCnnNet1\":\n",
    "    model = basic_cnn.Net1(classes=torch.max(labels).item()+1).to(device)\n",
    "elif model_name == \"basicCnnNet2\":\n",
    "    model = basic_cnn.Net2(classes=torch.max(labels).item()+1).to(device)\n",
    "elif model_name ==\"mobileNetV2\":\n",
    "    model = mobileNetV2.mobilenet_v2(pretrained=False).to(device)\n",
    "elif model_name ==\"mobilenetv3_large\":\n",
    "    model = mobileNetV3.mobilenetv3_large().to(device)\n",
    "elif model_name ==\"mobilenetv3_small\":\n",
    "    model = mobileNetV3.mobilenetv3_small().to(device)\n",
    "elif model_name ==\"mobileNetV1\":\n",
    "    model = mobileNetV1.MyMobileNet_v1(num_classes=9).to(device)\n",
    "elif model_name ==\"resNet50\":\n",
    "    # model = InceptionV3.MyInception_v3(num_classes=9).to(device)\n",
    "    model = resNet50.resnet50(num_classes=9).to(device)\n",
    "elif model_name ==\"InceptionV3\":\n",
    "    # model = InceptionV3.MyInception_v3(num_classes=9).to(device)\n",
    "    model = InceptionV3.GoogLeNetV3(num_classes=9).to(device)\n",
    "print(model_name)"
   ]
  },
  {
   "cell_type": "code",
   "execution_count": 13,
   "metadata": {},
   "outputs": [],
   "source": [
    "# # FLOPs and Params\n",
    "# flops, params = profile(model, \n",
    "#             inputs=(torch.randn(2, 3, 256, 256).to(device),))\n",
    "\n",
    "# # flops, params = profile(model, inputs=(torch.randn(2, hsi_bands).to(args.device),  torch.randn(2, sar_bands).to(args.device)))\n",
    "\n",
    "# flops, params = clever_format([flops, params])\n",
    "# print('# Model FLOPs: {}'.format(flops))\n",
    "# print('# Model Params: {}'.format(params))"
   ]
  },
  {
   "cell_type": "code",
   "execution_count": 14,
   "metadata": {},
   "outputs": [
    {
     "name": "stdout",
     "output_type": "stream",
     "text": [
      "mobilenetv3_small\n"
     ]
    }
   ],
   "source": [
    "# smoothing = 0.1\n",
    "# if model_name == 'InceptionV3':\n",
    "#     loss_fn = InceptionV3.Loss_Inception_v3(9, smoothing)\n",
    "#     # loss_fn = LabelSmoothingCrossEntropy(smoothing)\n",
    "# else:\n",
    "loss_fn = nn.CrossEntropyLoss()\n",
    "optim = torch.optim.Adam(model.parameters(), lr=0.001)\n",
    "print(model_name)"
   ]
  },
  {
   "cell_type": "markdown",
   "metadata": {},
   "source": [
    "# Test"
   ]
  },
  {
   "cell_type": "code",
   "execution_count": 15,
   "metadata": {},
   "outputs": [
    {
     "name": "stdout",
     "output_type": "stream",
     "text": [
      "Loaded from: /home/leo/Classification/04CNN/results/0823-101520-mobilenetv3_small/theCurve.pth start 100\n"
     ]
    }
   ],
   "source": [
    "path = os.path.join(result_dir, 'theCurve.pth')\n",
    "if path != '':\n",
    "    checkpoint = torch.load(path)\n",
    "    epoch_start = checkpoint['epoch'] + 1\n",
    "    train_loss  = checkpoint['train_loss']\n",
    "    train_acc = checkpoint['train_acc']\n",
    "    test_loss = checkpoint['test_loss']\n",
    "    test_acc =  checkpoint['test_acc']\n",
    "    print('Loaded from: {}'.format(path), \"start\", epoch_start)"
   ]
  },
  {
   "cell_type": "code",
   "execution_count": 16,
   "metadata": {},
   "outputs": [
    {
     "data": {
      "image/png": "[encoded data removed]",
      "text/plain": [
       "<Figure size 600x400 with 1 Axes>"
      ]
     },
     "metadata": {},
     "output_type": "display_data"
    }
   ],
   "source": [
    "plt.figure(figsize=(6, 4))\n",
    "plt.plot(range(1, epoch_start+1), train_loss, label=\"train_loss\")\n",
    "plt.plot(range(1, epoch_start+1), test_loss, label=\"test_loss\")\n",
    "plt.legend()\n",
    "\n",
    "plt.savefig(os.path.join(result_dir, 'loss.png'), dpi=300)"
   ]
  },
  {
   "cell_type": "code",
   "execution_count": 17,
   "metadata": {},
   "outputs": [
    {
     "data": {
      "image/png": "[encoded data removed]",
      "text/plain": [
       "<Figure size 800x400 with 1 Axes>"
      ]
     },
     "metadata": {},
     "output_type": "display_data"
    }
   ],
   "source": [
    "plt.figure(figsize=(8, 4))\n",
    "\n",
    "\n",
    "ax = plt.axes()\n",
    "ax.spines['top'].set_visible(False)\n",
    "ax.spines['right'].set_visible(False)\n",
    "ax.spines['left'].set_visible(False)\n",
    "ax.spines['bottom'].set_visible(False)\n",
    "plt.grid(axis='y')  \n",
    "\n",
    "plt.plot(range(1, epoch_start+1), train_acc, label=\"train_acc\", linewidth=2)\n",
    "plt.plot(range(1, epoch_start+1), test_acc, label=\"test_acc\", linewidth=2)\n",
    "\n",
    "plt.legend()\n",
    "plt.savefig(os.path.join(result_dir, 'acc.png'), dpi=300)"
   ]
  },
  {
   "cell_type": "code",
   "execution_count": 18,
   "metadata": {},
   "outputs": [
    {
     "name": "stdout",
     "output_type": "stream",
     "text": [
      "Loaded from: /home/leo/Classification/04CNN/results/0823-101520-mobilenetv3_small/weights.pth start 101\n"
     ]
    }
   ],
   "source": [
    "path = os.path.join(result_dir, 'weights.pth')\n",
    "if path != '':\n",
    "    checkpoint = torch.load(path)\n",
    "    model.load_state_dict(checkpoint['model'], strict=False)\n",
    "    epoch_start = checkpoint['epoch'] + 1\n",
    "    print('Loaded from: {}'.format(path), \"start\", epoch_start)"
   ]
  },
  {
   "cell_type": "code",
   "execution_count": 19,
   "metadata": {},
   "outputs": [],
   "source": [
    "def test(model, testloader):\n",
    "\n",
    "    test_correct = 0\n",
    "    test_total = 0\n",
    "    test_running_loss = 0\n",
    "    test_pred_list = []\n",
    "    test_label_list = []\n",
    "\n",
    "    # 预测模式影响 dropout Batch, Normalization\n",
    "    model.eval()\n",
    "    with torch.no_grad():\n",
    "        for x, y in testloader:\n",
    "            x, y = x.to(device), y.to(device)\n",
    "                \n",
    "            y_pred = model(x)\n",
    "            loss = loss_fn(y_pred, y)\n",
    "            y_pred = torch.argmax(y_pred, dim=1)\n",
    "            test_correct += (y_pred == y).sum().item()\n",
    "            test_total += y.size(0)\n",
    "            test_running_loss += loss.item()\n",
    "\n",
    "            test_label_list.extend(y.cpu().numpy())\n",
    "            test_pred_list.extend(y_pred.cpu().numpy())\n",
    "\n",
    "    test_loss = test_running_loss / len(testloader.dataset)\n",
    "    test_accuracy = test_correct / test_total\n",
    "\n",
    "    print('test_loss: ', round(test_loss, 3),\n",
    "        'test_accuracy', round(test_accuracy, 3))\n",
    "\n",
    "    return test_loss, test_accuracy, test_pred_list, test_label_list"
   ]
  },
  {
   "cell_type": "code",
   "execution_count": 20,
   "metadata": {},
   "outputs": [
    {
     "name": "stdout",
     "output_type": "stream",
     "text": [
      "test_loss:  0.028 test_accuracy 0.948\n"
     ]
    }
   ],
   "source": [
    "starttime = time.time()\n",
    "test_loss, test_acc, test_preds, test_labels = test(model, test_dl)\n",
    "test_time = time.time() - starttime"
   ]
  },
  {
   "cell_type": "code",
   "execution_count": 21,
   "metadata": {},
   "outputs": [
    {
     "name": "stdout",
     "output_type": "stream",
     "text": [
      "accuracy 0.9479166666666666\n",
      "precision 0.9459606429171648\n",
      "recall 0.9449465783372086\n",
      "f1 0.9452311101014819\n",
      "kappa 0.9412906875410889\n"
     ]
    }
   ],
   "source": [
    "matrix, classification, accuracy, precision, recall, f1, kappa = \\\n",
    "                            metric_log(test_preds, test_labels)\n",
    "f = open(os.path.join(result_dir, 'results2.txt'), 'a+')\n",
    "str_results = '\\n ======================' \\\n",
    "            + '\\n' + classification \\\n",
    "            + \"\\nmatrix = \\t\\t\" + str(matrix) \\\n",
    "            + \"\\nepoch_start = \\t\" + str(epoch_start) \\\n",
    "            + \"\\naccuracy = \\t\\t\" + str(round(accuracy, 4)) \\\n",
    "            + \"\\nprecision = \\t\" + str(round(precision, 4)) \\\n",
    "            + \"\\nrecall = \\t\\t\" + str(round(recall, 4)) \\\n",
    "            + \"\\nf1 = \\t\\t\\t\\t\" + str(round(f1, 4)) \\\n",
    "            + \"\\nkappa = \\t\\t\\t\" + str(round(kappa, 4)) \\\n",
    "            + '\\ntest time = \\t' + str(round(test_time, 2)) \\\n",
    "            + '\\n'\n",
    "f.write(str_results)\n",
    "f.close()"
   ]
  },
  {
   "cell_type": "code",
   "execution_count": null,
   "metadata": {},
   "outputs": [],
   "source": []
  },
  {
   "cell_type": "code",
   "execution_count": null,
   "metadata": {},
   "outputs": [],
   "source": []
  },
  {
   "cell_type": "code",
   "execution_count": null,
   "metadata": {},
   "outputs": [],
   "source": []
  }
 ],
 "metadata": {
  "kernelspec": {
   "display_name": "Python 3.8.5 64-bit ('pytorch': conda)",
   "metadata": {
    "interpreter": {
     "hash": "7561999865e8d32d6414ef8be0e097f8d3bcb29efcaa5381d7876f261ce057b4"
    }
   },
   "name": "python3"
  },
  "language_info": {
   "codemirror_mode": {
    "name": "ipython",
    "version": 3
   },
   "file_extension": ".py",
   "mimetype": "text/x-python",
   "name": "python",
   "nbconvert_exporter": "python",
   "pygments_lexer": "ipython3",
   "version": "3.12.4"
  },
  "orig_nbformat": 2
 },
 "nbformat": 4,
 "nbformat_minor": 2
}
